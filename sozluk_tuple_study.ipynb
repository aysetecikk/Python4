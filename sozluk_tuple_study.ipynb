{
  "nbformat": 4,
  "nbformat_minor": 0,
  "metadata": {
    "colab": {
      "provenance": []
    },
    "kernelspec": {
      "name": "python3",
      "display_name": "Python 3"
    },
    "language_info": {
      "name": "python"
    }
  },
  "cells": [
    {
      "cell_type": "markdown",
      "source": [
        "1. Bir sözlük oluşturulur ve bu sözlükte öğrencilerin isimleri ve Matematik, Fizik, Kimya notları tutulur. Kullanıcıdan isim ve ders ismi(Matematik, Fizik, Kimya) istenir ve bu bilgilere göre çıktı verilir.\n",
        "\n",
        "2. Sözlük üzerinde değerleri değiştirme, yeni değer ekleme, kullanıcıya ulaşmak istediği bilgileri sorma gibi uygulamalar yapın."
      ],
      "metadata": {
        "id": "kOMA9KhERd1z"
      }
    },
    {
      "cell_type": "code",
      "source": [
        "\n"
      ],
      "metadata": {
        "colab": {
          "base_uri": "https://localhost:8080/"
        },
        "id": "JdzNncZUXKQr",
        "outputId": "2531734c-98b9-4854-efb5-a5577dd93617"
      },
      "execution_count": null,
      "outputs": [
        {
          "output_type": "stream",
          "name": "stdout",
          "text": [
            "[1, 2, 3, 4, 5, 6]\n",
            "(1, 2, 3, 4, 5, 6)\n"
          ]
        }
      ]
    },
    {
      "cell_type": "code",
      "execution_count": null,
      "metadata": {
        "id": "JE2BXb6xRUN8",
        "colab": {
          "base_uri": "https://localhost:8080/"
        },
        "outputId": "703dc40e-2ac8-4bdb-93d9-699799fc54ca"
      },
      "outputs": [
        {
          "output_type": "stream",
          "name": "stdout",
          "text": [
            "Öğrenci ismini girin (Ali, Ayşe, Mehmet, Zeynep): ALi\n",
            "Ders ismini girin (Matematik, Fizik, Kimya): fizik\n",
            "Girilen öğrenci adı geçersiz.\n"
          ]
        }
      ],
      "source": [
        "\"\"\" 1. Bir sözlük oluşturulur ve #bu sözlükte öğrencilerin isimleri ve\n",
        "Matematik, Fizik, Kimya notları tutulur.\n",
        "Kullanıcıdan isim ve ders ismi(Matematik, Fizik, Kimya) istenir ve\n",
        "bu bilgilere göre çıktı verilir. \"\"\"\n",
        "\n",
        "\n",
        "# Öğrenci bilgilerini içeren sözlük, ders notları tuple içinde tutuluyor\n",
        "ogrenci_notlari = {\n",
        "    \"Ali\": (\"Matematik\", 85, \"Fizik\", 90, \"Kimya\", 78),\n",
        "    \"Ayşe\": (\"Matematik\", 92, \"Fizik\", 88, \"Kimya\", 80),\n",
        "    \"Mehmet\": (\"Matematik\", 75, \"Fizik\", 70, \"Kimya\", 65),\n",
        "    \"Zeynep\": (\"Matematik\", 95, \"Fizik\", 85, \"Kimya\", 90) }\n",
        "\n",
        "#() içerisinde tuple olarak tutuluyor notlar ve dersler\n",
        "\n",
        "# Kullanıcıdan öğrencinin adı ve ders adı istenir\n",
        "isim = input(\"Öğrenci ismini girin (Ali, Ayşe, Mehmet, Zeynep): \")\n",
        "ders = input(\"Ders ismini girin (Matematik, Fizik, Kimya): \")\n",
        "\n",
        "# Verilen bilgilere göre notu bulma\n",
        "if isim in ogrenci_notlari: #\n",
        "    ders_notlari = ogrenci_notlari[isim]\n",
        "    # girilen isme göre öğrenci notları kodun arka tarafında liselenecek\n",
        "    if ders in ders_notlari: # ders notlarının içinden de\n",
        "        ders_index = ders_notlari.index(ders) + 1\n",
        "        # Seçilen dersin indeksini bulup notunu almak için\n",
        "        notu = ders_notlari[ders_index] # dersin notu çekilecek\n",
        "        print(f\"{isim} adlı öğrencinin {ders} notu: {notu}\")\n",
        "    else:\n",
        "        print(\"Girilen ders bilgisi geçersiz.\")\n",
        "else:\n",
        "    print(\"Girilen öğrenci adı geçersiz.\")\n",
        "\n",
        "#eğer öğrenci adı ya da ders belirtilen şekilde yazılmazsa geçersiz bilgisi ekrana yazdırılacak\n",
        "\n",
        "\n",
        "\n"
      ]
    },
    {
      "cell_type": "code",
      "source": [
        "\"\"\"Sözlük üzerinde değerleri değiştirme, yeni değer ekleme, kullanıcıya ulaşmak,\n",
        "# istediği bilgileri sorma gibi uygulamalar yapın.\"\"\"\n",
        "\n",
        "\n",
        "\"\"\" değer değiştirme\"\"\"\n",
        "\n",
        "ali_notları = list(ogrenci_notlari[\"Ali\"])\n",
        "#köşeli parantez eklenmezse her bir harfi eleman alıp listeliyor\n",
        "\n",
        "ali_mat= ali_notları[1] #öğrenci için derslerin indexlerine değişken tanımlandı\n",
        "ali_fiz= ali_notları[3]\n",
        "ali_kim= ali_notları[5]\n",
        "\n",
        "print(ali_mat +5) #indexlere göre tanımlanan değişkenlerle işlem yapıldı\n",
        "print(ali_fiz +5) # sınav değerleri değiştirildi\n",
        "print(ali_kim +10)\n",
        "\n",
        "\n"
      ],
      "metadata": {
        "colab": {
          "base_uri": "https://localhost:8080/"
        },
        "id": "BBUmkmUZb6cm",
        "outputId": "adb470b7-1367-4b17-a6d3-744ab98964a1"
      },
      "execution_count": null,
      "outputs": [
        {
          "output_type": "stream",
          "name": "stdout",
          "text": [
            "90\n",
            "95\n",
            "88\n"
          ]
        }
      ]
    },
    {
      "cell_type": "code",
      "source": [
        "# yeni değer ekleme\n",
        "\n",
        "ogrenci_notlari = {\n",
        "    \"Ali\": (\"Matematik\", 85, \"Fizik\", 90, \"Kimya\", 78),\n",
        "    \"Ayşe\": (\"Matematik\", 92, \"Fizik\", 88, \"Kimya\", 80),\n",
        "    \"Mehmet\": (\"Matematik\", 75, \"Fizik\", 70, \"Kimya\", 65),\n",
        "    \"Zeynep\": (\"Matematik\", 95, \"Fizik\", 85, \"Kimya\", 90) }\n",
        "\n",
        "# Yeni ders ve not eklemek için\n",
        "yeni_ders = \"Biyoloji\"\n",
        "yeni_not = 55\n",
        "\n",
        "# Ali'nin notları\n",
        "ali_notlari = ogrenci_notlari[\"Ali\"]\n",
        "\n",
        "ali_not_yeni = ali_notlari + (yeni_ders, yeni_not)\n",
        "# eklenen ders ve notu var olan bilgilere eklenir\n",
        "\n",
        "# güncellenen haliyle tekrar sözlüğe atılır\n",
        "ogrenci_notlari[\"Ali\"] = ali_not_yeni\n",
        "\n",
        "print(ogrenci_notlari)"
      ],
      "metadata": {
        "id": "asWyt6lUCUAY"
      },
      "execution_count": null,
      "outputs": []
    },
    {
      "cell_type": "code",
      "source": [
        "ogrenci_notlari = {\n",
        "    \"Ali\": (\"Matematik\", 85, \"Fizik\", 90, \"Kimya\", 78),\n",
        "    \"\\n Ayşe\": (\"Matematik\", 92, \"Fizik\", 88, \"Kimya\", 80),\n",
        "    \"Mehmet\": (\"Matematik\", 75, \"Fizik\", 70, \"Kimya\", 65),\n",
        "    \"Zeynep\": (\"Matematik\", 95, \"Fizik\", 85, \"Kimya\", 90) }\n",
        "\n",
        "print(ogrenci_notlari)"
      ],
      "metadata": {
        "colab": {
          "base_uri": "https://localhost:8080/"
        },
        "id": "67xtiMLmD5MM",
        "outputId": "26cecdbb-f8e4-4140-ca60-7e02a0540998"
      },
      "execution_count": null,
      "outputs": [
        {
          "output_type": "stream",
          "name": "stdout",
          "text": [
            "{'Ali': ('Matematik', 85, 'Fizik', 90, 'Kimya', 78), '\\n Ayşe': ('Matematik', 92, 'Fizik', 88, 'Kimya', 80), 'Mehmet': ('Matematik', 75, 'Fizik', 70, 'Kimya', 65), 'Zeynep': ('Matematik', 95, 'Fizik', 85, 'Kimya', 90)}\n"
          ]
        }
      ]
    },
    {
      "cell_type": "code",
      "source": [
        "\"\"\" kullanıcıdan ulaşmakistediği öğrenciyi isteme ve istediği öğrencinin bilgilerini getirme\"\"\"\n",
        "\n",
        "ogrenci_notlari = {\n",
        "    \"Ali\": (\"Matematik\", 85, \"Fizik\", 90, \"Kimya\", 78),\n",
        "    \"Ayşe\": (\"Matematik\", 92, \"Fizik\", 88, \"Kimya\", 80),\n",
        "    \"Mehmet\": (\"Matematik\", 75, \"Fizik\", 70, \"Kimya\", 65),\n",
        "    \"Zeynep\": (\"Matematik\", 95, \"Fizik\", 85, \"Kimya\", 90)\n",
        "}\n",
        "\n",
        "# bir öğrenci çağırılsın\n",
        "ogrenci_ismi = input(\"Notlarını görmek istediğiniz öğrencinin ismini girin: \")\n",
        "\n",
        "# kullanıcının istediği öğrenci listede var mı yok mu\n",
        "if ogrenci_ismi in ogrenci_notlari: # ismi yazılan öğrenci varsa ismi alınır\n",
        "    notlar = ogrenci_notlari[ogrenci_ismi]\n",
        "    print(f\"{ogrenci_ismi} için notlar:\")\n",
        "\n",
        "    # Notları yazdırma\n",
        "    for i in range(0, len(notlar), 2): #her iki atlamada notları bulup çekecek\n",
        "        ders = notlar[i]\n",
        "        not_degeri = notlar[i + 1]#her 2 atlamaya göre de +1 yapıp ders adını getirecek\n",
        "        print(f\"{ders}: {not_degeri}\")\n",
        "        # var olan öğrencinin\n",
        "else:\n",
        "    print(\"Bu isimde bir öğrenci bulunamadı.\") #isim düzgün istenmezse öğrenci bilgisi alınamayacak"
      ],
      "metadata": {
        "colab": {
          "base_uri": "https://localhost:8080/"
        },
        "id": "4_f_9U4Bu-ta",
        "outputId": "8a7ee331-1c41-417a-dc94-236a140381f5"
      },
      "execution_count": 3,
      "outputs": [
        {
          "output_type": "stream",
          "name": "stdout",
          "text": [
            "Notlarını görmek istediğiniz öğrencinin ismini girin: Mehmet\n",
            "Mehmet için notlar:\n",
            "Matematik: 75\n",
            "Fizik: 70\n",
            "Kimya: 65\n"
          ]
        }
      ]
    }
  ]
}